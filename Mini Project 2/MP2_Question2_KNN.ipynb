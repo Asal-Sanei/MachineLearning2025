{
  "nbformat": 4,
  "nbformat_minor": 0,
  "metadata": {
    "colab": {
      "provenance": [],
      "toc_visible": true,
      "authorship_tag": "ABX9TyPRm4GJw5QxGPQNV4yVPw+R",
      "include_colab_link": true
    },
    "kernelspec": {
      "name": "python3",
      "display_name": "Python 3"
    },
    "language_info": {
      "name": "python"
    }
  },
  "cells": [
    {
      "cell_type": "markdown",
      "metadata": {
        "id": "view-in-github",
        "colab_type": "text"
      },
      "source": [
        "<a href=\"https://colab.research.google.com/github/Asal-Sanei/MachineLearning2025/blob/main/Mini%20Project%202/MP2_Question2_KNN.ipynb\" target=\"_parent\"><img src=\"https://colab.research.google.com/assets/colab-badge.svg\" alt=\"Open In Colab\"/></a>"
      ]
    },
    {
      "cell_type": "code",
      "source": [
        "!gdown 107dHB_HzOj7ADKqauPfBfuq9VD2VFig2\n",
        "#https://drive.google.com/file/d/107dHB_HzOj7ADKqauPfBfuq9VD2VFig2/view?usp=sharing\n",
        "!gdown 1j96pnwsOuXex3gciUOGKuTdrgxjyVmYO\n",
        "#https://drive.google.com/file/d/1j96pnwsOuXex3gciUOGKuTdrgxjyVmYO/view?usp=sharing"
      ],
      "metadata": {
        "colab": {
          "base_uri": "https://localhost:8080/"
        },
        "id": "Ns4orwIlgHc0",
        "outputId": "406773ee-a571-438d-fbd9-08845f9747cc"
      },
      "execution_count": null,
      "outputs": [
        {
          "output_type": "stream",
          "name": "stdout",
          "text": [
            "Downloading...\n",
            "From: https://drive.google.com/uc?id=107dHB_HzOj7ADKqauPfBfuq9VD2VFig2\n",
            "To: /content/mnist_test.csv\n",
            "100% 18.3M/18.3M [00:00<00:00, 57.0MB/s]\n",
            "Downloading...\n",
            "From (original): https://drive.google.com/uc?id=1j96pnwsOuXex3gciUOGKuTdrgxjyVmYO\n",
            "From (redirected): https://drive.google.com/uc?id=1j96pnwsOuXex3gciUOGKuTdrgxjyVmYO&confirm=t&uuid=039a462a-3c71-4451-836e-802eb220fc37\n",
            "To: /content/mnist_train.csv\n",
            "100% 110M/110M [00:01<00:00, 67.8MB/s] \n"
          ]
        }
      ]
    },
    {
      "cell_type": "markdown",
      "source": [
        "#CSV files"
      ],
      "metadata": {
        "id": "-AQi5n10lLdt"
      }
    },
    {
      "cell_type": "code",
      "source": [
        "import pandas as pd"
      ],
      "metadata": {
        "id": "UTBrq6Y7lUDd"
      },
      "execution_count": null,
      "outputs": []
    },
    {
      "cell_type": "code",
      "source": [
        "df1=pd.read_csv('/content/mnist_train.csv')\n",
        "df2=pd.read_csv('/content/mnist_test.csv')"
      ],
      "metadata": {
        "id": "1bAvgLVtlPSl"
      },
      "execution_count": null,
      "outputs": []
    },
    {
      "cell_type": "markdown",
      "source": [
        "##Combining files"
      ],
      "metadata": {
        "id": "qW0medysmSZl"
      }
    },
    {
      "cell_type": "markdown",
      "source": [
        "#3.1"
      ],
      "metadata": {
        "id": "huNxC2kh2XOC"
      }
    },
    {
      "cell_type": "code",
      "source": [
        "df = pd.concat([df1, df2])\n",
        "print(df)\n",
        "df.shape"
      ],
      "metadata": {
        "colab": {
          "base_uri": "https://localhost:8080/"
        },
        "id": "uuj0ZqpGmWJW",
        "outputId": "da5b3dcb-dfb2-4ea1-d9a6-2e21c0961f27"
      },
      "execution_count": null,
      "outputs": [
        {
          "output_type": "stream",
          "name": "stdout",
          "text": [
            "      label  1x1  1x2  1x3  1x4  1x5  1x6  1x7  1x8  1x9  ...  28x19  28x20  \\\n",
            "0         5    0    0    0    0    0    0    0    0    0  ...      0      0   \n",
            "1         0    0    0    0    0    0    0    0    0    0  ...      0      0   \n",
            "2         4    0    0    0    0    0    0    0    0    0  ...      0      0   \n",
            "3         1    0    0    0    0    0    0    0    0    0  ...      0      0   \n",
            "4         9    0    0    0    0    0    0    0    0    0  ...      0      0   \n",
            "...     ...  ...  ...  ...  ...  ...  ...  ...  ...  ...  ...    ...    ...   \n",
            "9995      2    0    0    0    0    0    0    0    0    0  ...      0      0   \n",
            "9996      3    0    0    0    0    0    0    0    0    0  ...      0      0   \n",
            "9997      4    0    0    0    0    0    0    0    0    0  ...      0      0   \n",
            "9998      5    0    0    0    0    0    0    0    0    0  ...      0      0   \n",
            "9999      6    0    0    0    0    0    0    0    0    0  ...      0      0   \n",
            "\n",
            "      28x21  28x22  28x23  28x24  28x25  28x26  28x27  28x28  \n",
            "0         0      0      0      0      0      0      0      0  \n",
            "1         0      0      0      0      0      0      0      0  \n",
            "2         0      0      0      0      0      0      0      0  \n",
            "3         0      0      0      0      0      0      0      0  \n",
            "4         0      0      0      0      0      0      0      0  \n",
            "...     ...    ...    ...    ...    ...    ...    ...    ...  \n",
            "9995      0      0      0      0      0      0      0      0  \n",
            "9996      0      0      0      0      0      0      0      0  \n",
            "9997      0      0      0      0      0      0      0      0  \n",
            "9998      0      0      0      0      0      0      0      0  \n",
            "9999      0      0      0      0      0      0      0      0  \n",
            "\n",
            "[70000 rows x 785 columns]\n"
          ]
        },
        {
          "output_type": "execute_result",
          "data": {
            "text/plain": [
              "(70000, 785)"
            ]
          },
          "metadata": {},
          "execution_count": 5
        }
      ]
    },
    {
      "cell_type": "markdown",
      "source": [
        "#Preprocessing"
      ],
      "metadata": {
        "id": "oZshUsNbmxzy"
      }
    },
    {
      "cell_type": "markdown",
      "source": [
        "#Deviding 10000 samples"
      ],
      "metadata": {
        "id": "oVQgMMWMmls-"
      }
    },
    {
      "cell_type": "code",
      "source": [
        "df = df.iloc[:10000]\n",
        "print(f\"Shape of the first 10,000 samples: {df.shape}\")\n",
        "print(df)"
      ],
      "metadata": {
        "colab": {
          "base_uri": "https://localhost:8080/"
        },
        "id": "7uNl0-Bnm1pV",
        "outputId": "5730d550-575a-4af5-85d3-23f04f717ef8"
      },
      "execution_count": null,
      "outputs": [
        {
          "output_type": "stream",
          "name": "stdout",
          "text": [
            "Shape of the first 10,000 samples: (10000, 785)\n",
            "      label  1x1  1x2  1x3  1x4  1x5  1x6  1x7  1x8  1x9  ...  28x19  28x20  \\\n",
            "0         5    0    0    0    0    0    0    0    0    0  ...      0      0   \n",
            "1         0    0    0    0    0    0    0    0    0    0  ...      0      0   \n",
            "2         4    0    0    0    0    0    0    0    0    0  ...      0      0   \n",
            "3         1    0    0    0    0    0    0    0    0    0  ...      0      0   \n",
            "4         9    0    0    0    0    0    0    0    0    0  ...      0      0   \n",
            "...     ...  ...  ...  ...  ...  ...  ...  ...  ...  ...  ...    ...    ...   \n",
            "9995      5    0    0    0    0    0    0    0    0    0  ...      0      0   \n",
            "9996      8    0    0    0    0    0    0    0    0    0  ...      0      0   \n",
            "9997      6    0    0    0    0    0    0    0    0    0  ...      0      0   \n",
            "9998      9    0    0    0    0    0    0    0    0    0  ...      0      0   \n",
            "9999      7    0    0    0    0    0    0    0    0    0  ...      0      0   \n",
            "\n",
            "      28x21  28x22  28x23  28x24  28x25  28x26  28x27  28x28  \n",
            "0         0      0      0      0      0      0      0      0  \n",
            "1         0      0      0      0      0      0      0      0  \n",
            "2         0      0      0      0      0      0      0      0  \n",
            "3         0      0      0      0      0      0      0      0  \n",
            "4         0      0      0      0      0      0      0      0  \n",
            "...     ...    ...    ...    ...    ...    ...    ...    ...  \n",
            "9995      0      0      0      0      0      0      0      0  \n",
            "9996      0      0      0      0      0      0      0      0  \n",
            "9997      0      0      0      0      0      0      0      0  \n",
            "9998      0      0      0      0      0      0      0      0  \n",
            "9999      0      0      0      0      0      0      0      0  \n",
            "\n",
            "[10000 rows x 785 columns]\n"
          ]
        }
      ]
    },
    {
      "cell_type": "markdown",
      "source": [
        "#Normalization"
      ],
      "metadata": {
        "id": "NKgocDBHr293"
      }
    },
    {
      "cell_type": "markdown",
      "source": [
        "##Min Max Scaler"
      ],
      "metadata": {
        "id": "boGkfCJz9Eoj"
      }
    },
    {
      "cell_type": "code",
      "source": [
        "from sklearn.preprocessing import StandardScaler, MinMaxScaler"
      ],
      "metadata": {
        "id": "BPvsUtTd84Dd"
      },
      "execution_count": null,
      "outputs": []
    },
    {
      "cell_type": "code",
      "source": [
        "import pandas as pd\n",
        "from sklearn.preprocessing import StandardScaler\n",
        "from sklearn.model_selection import train_test_split\n",
        "from sklearn.neighbors import KNeighborsClassifier"
      ],
      "metadata": {
        "id": "0b6vBPFS86UJ"
      },
      "execution_count": null,
      "outputs": []
    },
    {
      "source": [
        "\n",
        "X = df.drop('label', axis=1)\n",
        "y = df['label']\n",
        "\n",
        "scaler = MinMaxScaler()\n",
        "\n",
        "X_scaled = scaler.fit_transform(X)\n",
        "\n",
        "scaled_df = pd.DataFrame(X_scaled, columns=X.columns, index=X.index)\n",
        "\n",
        "scaled_df['label'] = y"
      ],
      "cell_type": "code",
      "metadata": {
        "id": "ahY7ky6P3hg9"
      },
      "execution_count": null,
      "outputs": []
    },
    {
      "cell_type": "markdown",
      "source": [
        "#3.2"
      ],
      "metadata": {
        "id": "saow9TOA2eep"
      }
    },
    {
      "cell_type": "markdown",
      "source": [
        "#Train and Test Data"
      ],
      "metadata": {
        "id": "0KP-2g3ds8xf"
      }
    },
    {
      "cell_type": "code",
      "source": [
        "from sklearn.model_selection import train_test_split\n",
        "import numpy as np"
      ],
      "metadata": {
        "id": "xhH363kwtGPm"
      },
      "execution_count": null,
      "outputs": []
    },
    {
      "cell_type": "code",
      "source": [
        "X=scaled_df.drop('label',axis=1)\n",
        "y=scaled_df['label']\n",
        "X_train, X_test, y_train, y_test = train_test_split(X, y, test_size=0.3, random_state=34)"
      ],
      "metadata": {
        "id": "00ItA_wdsOdW"
      },
      "execution_count": null,
      "outputs": []
    },
    {
      "cell_type": "markdown",
      "source": [
        "#3.3"
      ],
      "metadata": {
        "id": "zbJit2SyATPc"
      }
    },
    {
      "cell_type": "markdown",
      "source": [
        "#KNN"
      ],
      "metadata": {
        "id": "5WXtj5i3tQgu"
      }
    },
    {
      "cell_type": "markdown",
      "source": [
        "##K=[3,5,9]"
      ],
      "metadata": {
        "id": "KkoF-HMV4DfA"
      }
    },
    {
      "cell_type": "code",
      "source": [
        "from sklearn.neighbors import KNeighborsClassifier\n",
        "from sklearn.metrics import accuracy_score, mean_squared_error"
      ],
      "metadata": {
        "id": "x-Hb-QEqtPxP"
      },
      "execution_count": null,
      "outputs": []
    },
    {
      "cell_type": "code",
      "source": [
        "k_values = [3, 5, 9]\n",
        "for k in  k_values:\n",
        "    knn = KNeighborsClassifier(n_neighbors=k)\n",
        "    knn.fit(X_train, y_train)\n",
        "    y_pred = knn.predict(X_test)\n",
        "    accuracy = accuracy_score(y_test, y_pred)\n",
        "    print(f\"Accuracy with K={k}: {accuracy:.4f}\")"
      ],
      "metadata": {
        "id": "W3nQedsCvNAl",
        "colab": {
          "base_uri": "https://localhost:8080/"
        },
        "outputId": "67f026d4-408c-45b4-d651-a82a756d2461"
      },
      "execution_count": null,
      "outputs": [
        {
          "output_type": "stream",
          "name": "stdout",
          "text": [
            "Accuracy with K=3: 0.9443\n",
            "Accuracy with K=5: 0.9417\n",
            "Accuracy with K=9: 0.9383\n"
          ]
        }
      ]
    },
    {
      "cell_type": "markdown",
      "source": [
        "##K from 1 to 25"
      ],
      "metadata": {
        "id": "IlMCjGV04Ont"
      }
    },
    {
      "cell_type": "code",
      "source": [
        "import matplotlib.pyplot as plt"
      ],
      "metadata": {
        "id": "V0qrR6Bx5Pte"
      },
      "execution_count": null,
      "outputs": []
    },
    {
      "cell_type": "code",
      "source": [
        "accuracy_scores = []\n",
        "k_range = range(1, 26, 2)\n",
        "\n",
        "for k in k_range:\n",
        "    knn = KNeighborsClassifier(n_neighbors=k)\n",
        "    knn.fit(X_train, y_train)\n",
        "    y_pred = knn.predict(X_test)\n",
        "    accuracy = accuracy_score(y_test, y_pred)\n",
        "    accuracy_scores.append(accuracy)\n",
        "    print(f\"Accuracy with K={k}: {accuracy:.4f}\")\n",
        "\n",
        "best_accuracy = max(accuracy_scores)\n",
        "best_k_index = accuracy_scores.index(best_accuracy)\n",
        "best_k = k_range[best_k_index]\n",
        "\n"
      ],
      "metadata": {
        "colab": {
          "base_uri": "https://localhost:8080/"
        },
        "id": "9USPPTkD4TJ2",
        "outputId": "96a4bbec-868b-4ba8-b8b8-9094f52121de"
      },
      "execution_count": null,
      "outputs": [
        {
          "output_type": "stream",
          "name": "stdout",
          "text": [
            "Accuracy with K=1: 0.9453\n",
            "Accuracy with K=3: 0.9443\n",
            "Accuracy with K=5: 0.9417\n",
            "Accuracy with K=7: 0.9390\n",
            "Accuracy with K=9: 0.9383\n",
            "Accuracy with K=11: 0.9337\n",
            "Accuracy with K=13: 0.9323\n",
            "Accuracy with K=15: 0.9317\n",
            "Accuracy with K=17: 0.9300\n",
            "Accuracy with K=19: 0.9277\n",
            "Accuracy with K=21: 0.9230\n",
            "Accuracy with K=23: 0.9223\n",
            "Accuracy with K=25: 0.9203\n"
          ]
        }
      ]
    },
    {
      "cell_type": "markdown",
      "source": [
        "#Visualizing effect of 'k'"
      ],
      "metadata": {
        "id": "kWrkILcR444V"
      }
    },
    {
      "cell_type": "code",
      "source": [
        "plt.figure(figsize=(12, 7))\n",
        "plt.plot(k_range, accuracy_scores, marker='o', linestyle='-')\n",
        "plt.title('KNN Accuracy vs. K Value (All Tested K)')\n",
        "plt.xlabel('Number of Neighbors (K)')\n",
        "plt.ylabel('Accuracy')\n",
        "plt.xticks(k_range)\n",
        "plt.grid(True)\n",
        "plt.show()"
      ],
      "metadata": {
        "colab": {
          "base_uri": "https://localhost:8080/",
          "height": 641
        },
        "id": "-fmnFLMB5zEW",
        "outputId": "ce11e246-fadb-4bfc-c9a4-5dae8f3a8edf"
      },
      "execution_count": null,
      "outputs": [
        {
          "output_type": "display_data",
          "data": {
            "text/plain": [
              "<Figure size 1200x700 with 1 Axes>"
            ],
            "image/png": "[encoded data removed]"
          },
          "metadata": {}
        }
      ]
    },
    {
      "cell_type": "markdown",
      "source": [
        "#PCA"
      ],
      "metadata": {
        "id": "kG7hEsDgmNyh"
      }
    },
    {
      "source": [
        "from sklearn.decomposition import PCA\n",
        "\n",
        "pca = PCA(n_components=20)\n",
        "\n",
        "X_pca = pca.fit_transform(X)\n",
        "print(f\"Original number of features: {X.shape[1]}\")\n",
        "print(f\"Reduced number of features: {X_pca.shape[1]}\")"
      ],
      "cell_type": "code",
      "metadata": {
        "colab": {
          "base_uri": "https://localhost:8080/"
        },
        "id": "bGEcEb2q6fiL",
        "outputId": "0083dd3b-385f-4352-ea8e-89aeb38b6245"
      },
      "execution_count": null,
      "outputs": [
        {
          "output_type": "stream",
          "name": "stdout",
          "text": [
            "Original number of features: 784\n",
            "Reduced number of features: 20\n"
          ]
        }
      ]
    },
    {
      "cell_type": "code",
      "source": [
        "x_train_pca, x_test_pca, y_train, y_test = train_test_split(X_pca, y, test_size=0.3, random_state=34)"
      ],
      "metadata": {
        "id": "jTFTpP58prlk"
      },
      "execution_count": null,
      "outputs": []
    },
    {
      "cell_type": "code",
      "source": [
        "from sklearn.neighbors import KNeighborsClassifier\n",
        "\n",
        "knn_pca = KNeighborsClassifier(n_neighbors=9)\n",
        "knn_pca.fit(x_train_pca,y_train)\n",
        "knn_pca.score(x_test_pca, y_test)"
      ],
      "metadata": {
        "colab": {
          "base_uri": "https://localhost:8080/"
        },
        "id": "3s0ovE16pxC8",
        "outputId": "8ee50376-5662-4a27-ac21-4947780e1d0a"
      },
      "execution_count": null,
      "outputs": [
        {
          "output_type": "execute_result",
          "data": {
            "text/plain": [
              "0.915"
            ]
          },
          "metadata": {},
          "execution_count": 18
        }
      ]
    },
    {
      "cell_type": "code",
      "source": [
        "pred_pca = knn_pca.predict(x_test_pca)\n",
        "pred_pca"
      ],
      "metadata": {
        "colab": {
          "base_uri": "https://localhost:8080/"
        },
        "id": "ixPBoP5lp3c8",
        "outputId": "e24aa38b-345f-4230-e2dc-2663a4e64bc5"
      },
      "execution_count": null,
      "outputs": [
        {
          "output_type": "execute_result",
          "data": {
            "text/plain": [
              "array([4, 8, 1, ..., 5, 8, 0])"
            ]
          },
          "metadata": {},
          "execution_count": 19
        }
      ]
    },
    {
      "cell_type": "markdown",
      "source": [
        "#Accuracy vs Number Of PCA components\n",
        "\n",
        "\n",
        "\n"
      ],
      "metadata": {
        "id": "GHyXKZOU5E9k"
      }
    },
    {
      "cell_type": "code",
      "source": [
        "accuracy_scores_pca = []\n",
        "for n_components in range(20, 101, 20):\n",
        "    pca = PCA(n_components=n_components)\n",
        "    X_pca = pca.fit_transform(X)\n",
        "    x_train_pca, x_test_pca, y_train, y_test = train_test_split(X_pca, y, test_size=0.3, random_state=34)\n",
        "    knn_pca = KNeighborsClassifier(n_neighbors=9)\n",
        "    knn_pca.fit(x_train_pca, y_train)\n",
        "    accuracy = knn_pca.score(x_test_pca, y_test)\n",
        "    accuracy_scores_pca.append(accuracy)\n",
        "    print(f\"Accuracy with {n_components} PCA components: {accuracy:.4f}\")\n",
        "\n",
        "plt.figure(figsize=(10, 6))\n",
        "plt.plot(range(20, 101, 20), accuracy_scores_pca, marker='o')\n",
        "plt.title('Accuracy vs. Number of PCA Components')\n",
        "plt.xlabel('Number of PCA Components')\n",
        "plt.ylabel('Accuracy')\n",
        "plt.grid(True)\n",
        "plt.show()\n"
      ],
      "metadata": {
        "colab": {
          "base_uri": "https://localhost:8080/",
          "height": 651
        },
        "id": "x7sIEiSX8FQi",
        "outputId": "c4f56f20-0aff-40bb-8eaa-63a84b93f6bd"
      },
      "execution_count": null,
      "outputs": [
        {
          "output_type": "stream",
          "name": "stdout",
          "text": [
            "Accuracy with 20 PCA components: 0.9413\n",
            "Accuracy with 40 PCA components: 0.9470\n",
            "Accuracy with 60 PCA components: 0.9473\n",
            "Accuracy with 80 PCA components: 0.9447\n",
            "Accuracy with 100 PCA components: 0.9427\n"
          ]
        },
        {
          "output_type": "display_data",
          "data": {
            "text/plain": [
              "<Figure size 1000x600 with 1 Axes>"
            ],
            "image/png": "[encoded data removed]"
          },
          "metadata": {}
        }
      ]
    }
  ]
}